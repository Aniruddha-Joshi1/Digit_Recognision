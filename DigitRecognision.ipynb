{
  "nbformat": 4,
  "nbformat_minor": 0,
  "metadata": {
    "colab": {
      "provenance": []
    },
    "kernelspec": {
      "name": "python3",
      "display_name": "Python 3"
    },
    "language_info": {
      "name": "python"
    }
  },
  "cells": [
    {
      "cell_type": "code",
      "execution_count": 2,
      "metadata": {
        "id": "pjCh46NQ0Upc"
      },
      "outputs": [],
      "source": [
        "import tensorflow as tf\n",
        "from tensorflow import keras\n",
        "from tensorflow.keras import layers\n",
        "from tensorflow.keras.datasets import mnist\n",
        "from matplotlib import pyplot as plt\n",
        "import numpy as np"
      ]
    },
    {
      "cell_type": "code",
      "source": [
        "(x_train,y_train),(x_test,y_test)=mnist.load_data()\n",
        "# print(x_train.shape)\n",
        "# print(y_train.shape)\n",
        "# print(x_test.shape)\n",
        "# print(y_test.shape)\n",
        "x_train = x_train.reshape(x_train.shape[0], 28, 28, 1) # Converting the 3D matrix into 4D for better results (we can implement Stochastic Gradient Descent)\n",
        "x_test = x_test.reshape(x_test.shape[0],28,28,1)\n",
        "# print(x_train.shape)\n",
        "y_train = tf.keras.utils.to_categorical(y_train,10) #converts the data in a 2D matrix with the columns as class type(0-9) and rows as the number of training examples\n",
        "y_test = tf.keras.utils.to_categorical(y_test,10)\n",
        "# print(y_train.shape)"
      ],
      "metadata": {
        "colab": {
          "base_uri": "https://localhost:8080/"
        },
        "id": "e8LwBYOj2TMF",
        "outputId": "284281fb-75b1-4bf9-af40-606c067d1974"
      },
      "execution_count": 3,
      "outputs": [
        {
          "output_type": "stream",
          "name": "stdout",
          "text": [
            "Downloading data from https://storage.googleapis.com/tensorflow/tf-keras-datasets/mnist.npz\n",
            "11490434/11490434 [==============================] - 1s 0us/step\n"
          ]
        }
      ]
    },
    {
      "cell_type": "code",
      "source": [
        "x_train = x_train.astype('float32')\n",
        "x_test = x_test.astype('float32')\n",
        "x_train = x_train/255 #Converting the range of grayscale image pixel value from 0-255 to 0-1\n",
        "x_test = x_test/255"
      ],
      "metadata": {
        "id": "tri-9cLj8bI5"
      },
      "execution_count": 4,
      "outputs": []
    },
    {
      "cell_type": "code",
      "source": [
        "model = keras.Sequential()\n",
        "# model.add(layers.Conv2D(100,(3,3),activation= 'relu', input_shape=(28,28,1)))\n",
        "model.add(layers.MaxPooling2D((2,2)))\n",
        "model.add(layers.Conv2D(75,(3,3),activation='relu'))\n",
        "model.add(layers.MaxPooling2D((2,2)))\n",
        "model.add(layers.Conv2D(75, (3, 3), activation='relu'))\n",
        "model.add(layers.Flatten())\n",
        "# model.add(layers.Dense(75,activation='relu'))\n",
        "model.add(layers.Dense(10,activation='sigmoid'))\n",
        "opt = keras.optimizers.SGD(learning_rate=0.01)\n",
        "# losses=tf.keras.losses.categorical_crossentropy()\n",
        "model.compile(optimizer=opt,loss='categorical_crossentropy',metrics=['accuracy'])\n",
        "hist = model.fit(x_train,y_train,batch_size=32,epochs=2,validation_data=(x_test,y_test))"
      ],
      "metadata": {
        "colab": {
          "base_uri": "https://localhost:8080/"
        },
        "id": "LXP2qiCzdAgB",
        "outputId": "fd798c85-8020-4a6d-f955-e1fb13da01ba"
      },
      "execution_count": 6,
      "outputs": [
        {
          "output_type": "stream",
          "name": "stdout",
          "text": [
            "Epoch 1/2\n",
            "1875/1875 [==============================] - 31s 16ms/step - loss: 0.7518 - accuracy: 0.7912 - val_loss: 0.3116 - val_accuracy: 0.9078\n",
            "Epoch 2/2\n",
            "1875/1875 [==============================] - 32s 17ms/step - loss: 0.2669 - accuracy: 0.9205 - val_loss: 0.1968 - val_accuracy: 0.9414\n"
          ]
        }
      ]
    },
    {
      "cell_type": "code",
      "source": [
        "result = model.evaluate(x_test,y_test)\n",
        "loss,acc=result\n",
        "print(acc*100)"
      ],
      "metadata": {
        "id": "0DD9koPCvEcR"
      },
      "execution_count": null,
      "outputs": []
    },
    {
      "cell_type": "code",
      "source": [
        "predictions = model.predict(x_test)\n",
        "digit_predictions = tf.argmax(predictions, axis=1)\n",
        "digits_true = tf.argmax(y_test,axis=1)\n",
        "cf_matrix = tf.math.confusion_matrix(labels=digits_true,predictions=digit_predictions).numpy()\n",
        "print(digit_predictions)\n",
        "print(cf_matrix)\n",
        "# cf_matrix=tf.math.confusion_matrix(labels=tf.)"
      ],
      "metadata": {
        "colab": {
          "base_uri": "https://localhost:8080/"
        },
        "id": "1TARBrcNyfmQ",
        "outputId": "bcc845da-5658-4ae3-80d1-947a962c0724"
      },
      "execution_count": 61,
      "outputs": [
        {
          "output_type": "stream",
          "name": "stdout",
          "text": [
            "313/313 [==============================] - 1s 3ms/step\n",
            "tf.Tensor([7 2 1 ... 4 5 6], shape=(10000,), dtype=int64)\n",
            "[[ 958    0    2    1    0    8    4    2    5    0]\n",
            " [   0 1101    6    4    2    2    4    1   15    0]\n",
            " [   9    0  943   21    6    3   11   13   19    7]\n",
            " [   5    0   19  945    0   11    1    8   17    4]\n",
            " [   0    2    6    1  900    0   24    2    6   41]\n",
            " [   5    2    6   31    3  813   10    2   19    1]\n",
            " [   7    4    4    3    5   24  907    0    4    0]\n",
            " [   4    7   27   15    3    3    0  904    3   62]\n",
            " [   4    4    6   34    8   23    5    4  870   16]\n",
            " [  10    5    7   20   31    5    0   11    4  916]]\n"
          ]
        }
      ]
    }
  ]
}